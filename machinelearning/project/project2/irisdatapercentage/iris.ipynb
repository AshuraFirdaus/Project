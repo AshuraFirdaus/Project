{
 "cells": [
  {
   "cell_type": "code",
   "execution_count": 33,
   "metadata": {},
   "outputs": [],
   "source": [
    "import pandas as pd\n",
    "# membaca dataset iris dari iris.csv\n",
    "dataset = pd.read_csv('iris.csv', sep=',')"
   ]
  },
  {
   "cell_type": "code",
   "execution_count": 34,
   "metadata": {},
   "outputs": [
    {
     "name": "stdout",
     "output_type": "stream",
     "text": [
      "     sepal_length  sepal_width  petal_length  petal_width            class\n",
      "43            5.0          3.5           1.6          0.6      Iris-setosa\n",
      "89            5.5          2.5           4.0          1.3  Iris-versicolor\n",
      "61            5.9          3.0           4.2          1.5  Iris-versicolor\n",
      "59            5.2          2.7           3.9          1.4  Iris-versicolor\n",
      "74            6.4          2.9           4.3          1.3  Iris-versicolor\n",
      "132           6.4          2.8           5.6          2.2   Iris-virginica\n",
      "31            5.4          3.4           1.5          0.4      Iris-setosa\n",
      "57            4.9          2.4           3.3          1.0  Iris-versicolor\n",
      "3             4.6          3.1           1.5          0.2      Iris-setosa\n",
      "26            5.0          3.4           1.6          0.4      Iris-setosa\n",
      "97            6.2          2.9           4.3          1.3  Iris-versicolor\n",
      "34            4.9          3.1           1.5          0.1      Iris-setosa\n",
      "148           6.2          3.4           5.4          2.3   Iris-virginica\n",
      "54            6.5          2.8           4.6          1.5  Iris-versicolor\n",
      "37            4.9          3.1           1.5          0.1      Iris-setosa\n",
      "53            5.5          2.3           4.0          1.3  Iris-versicolor\n",
      "15            5.7          4.4           1.5          0.4      Iris-setosa\n",
      "114           5.8          2.8           5.1          2.4   Iris-virginica\n",
      "134           6.1          2.6           5.6          1.4   Iris-virginica\n",
      "90            5.5          2.6           4.4          1.2  Iris-versicolor\n",
      "16            5.4          3.9           1.3          0.4      Iris-setosa\n",
      "4             5.0          3.6           1.4          0.2      Iris-setosa\n",
      "139           6.9          3.1           5.4          2.1   Iris-virginica\n",
      "55            5.7          2.8           4.5          1.3  Iris-versicolor\n",
      "107           7.3          2.9           6.3          1.8   Iris-virginica\n",
      "127           6.1          3.0           4.9          1.8   Iris-virginica\n",
      "76            6.8          2.8           4.8          1.4  Iris-versicolor\n",
      "121           5.6          2.8           4.9          2.0   Iris-virginica\n",
      "36            5.5          3.5           1.3          0.2      Iris-setosa\n",
      "30            4.8          3.1           1.6          0.2      Iris-setosa\n",
      "Dimensi dataset :  (150, 5)\n"
     ]
    }
   ],
   "source": [
    "# Menampilkan sampel data sejumlah 20% dari keseluruhan data\n",
    "print(dataset.sample(frac=0.2))\n",
    "# Menampilkan dimensi dataset (jumlah baris, jumlah kolom)\n",
    "print(\"Dimensi dataset : \", dataset.shape)\n"
   ]
  },
  {
   "cell_type": "code",
   "execution_count": 35,
   "metadata": {},
   "outputs": [
    {
     "name": "stdout",
     "output_type": "stream",
     "text": [
      "     sepal_length  sepal_width  petal_length  petal_width  class\n",
      "91            6.1          3.0           4.6          1.4      2\n",
      "66            5.6          3.0           4.5          1.5      2\n",
      "30            4.8          3.1           1.6          0.2      1\n",
      "41            4.5          2.3           1.3          0.3      1\n",
      "80            5.5          2.4           3.8          1.1      2\n",
      "100           6.3          3.3           6.0          2.5      3\n",
      "135           7.7          3.0           6.1          2.3      3\n",
      "95            5.7          3.0           4.2          1.2      2\n",
      "85            6.0          3.4           4.5          1.6      2\n",
      "9             4.9          3.1           1.5          0.1      1\n",
      "32            5.2          4.1           1.5          0.1      1\n",
      "122           7.7          2.8           6.7          2.0      3\n",
      "117           7.7          3.8           6.7          2.2      3\n",
      "36            5.5          3.5           1.3          0.2      1\n",
      "45            4.8          3.0           1.4          0.3      1\n",
      "131           7.9          3.8           6.4          2.0      3\n",
      "13            4.3          3.0           1.1          0.1      1\n",
      "42            4.4          3.2           1.3          0.2      1\n",
      "62            6.0          2.2           4.0          1.0      2\n",
      "25            5.0          3.0           1.6          0.2      1\n",
      "123           6.3          2.7           4.9          1.8      3\n",
      "57            4.9          2.4           3.3          1.0      2\n",
      "54            6.5          2.8           4.6          1.5      2\n",
      "120           6.9          3.2           5.7          2.3      3\n",
      "34            4.9          3.1           1.5          0.1      1\n",
      "145           6.7          3.0           5.2          2.3      3\n",
      "47            4.6          3.2           1.4          0.2      1\n",
      "105           7.6          3.0           6.6          2.1      3\n",
      "88            5.6          3.0           4.1          1.3      2\n",
      "73            6.1          2.8           4.7          1.2      2\n"
     ]
    }
   ],
   "source": [
    "# Pada kolom class, dataset masih memiliki tipe kategorial.\n",
    "# Rubah menjadi data numerik untuk proses tahap selanjutnya.\n",
    "dataset = dataset.replace({\"class\": {\"Iris-setosa\": 1, \"Iris-versicolor\": 2, \"Iris-virginica\":3}})\n",
    "print(dataset.sample(frac=0.2))"
   ]
  },
  {
   "cell_type": "code",
   "execution_count": 36,
   "metadata": {},
   "outputs": [
    {
     "name": "stdout",
     "output_type": "stream",
     "text": [
      "Holdout score:  0.9777777777777777\n"
     ]
    }
   ],
   "source": [
    "from sklearn.model_selection import train_test_split\n",
    "from sklearn.neighbors import KNeighborsClassifier\n",
    "\n",
    "X = dataset.iloc[:, :-1]  # or using X = dataset.drop('class', axis=1)\n",
    "y = dataset.iloc[:, -1].values  # or using y = dataset['class']\n",
    "\n",
    "X_train, X_test, y_train, y_test = train_test_split(X, y, test_size=0.3, random_state=1)\n",
    "model = KNeighborsClassifier(n_neighbors=3)\n",
    "model.fit(X_train, y_train)\n",
    "modelScore = model.score(X_test, y_test)\n",
    "print(\"Holdout score: \", modelScore)\n"
   ]
  },
  {
   "cell_type": "code",
   "execution_count": 37,
   "metadata": {},
   "outputs": [
    {
     "name": "stdout",
     "output_type": "stream",
     "text": [
      "Random Subsampling score:  1.0\n"
     ]
    }
   ],
   "source": [
    "from sklearn.model_selection import train_test_split\n",
    "from sklearn.neighbors import KNeighborsClassifier\n",
    "from sklearn.model_selection import train_test_split\n",
    "from sklearn.neighbors import KNeighborsClassifier\n",
    "\n",
    "X_train, X_test, y_train, y_test = train_test_split(X, y, test_size=0.3, random_state=42)\n",
    "model = KNeighborsClassifier(n_neighbors=3)\n",
    "model.fit(X_train, y_train)\n",
    "modelScore = model.score(X_test, y_test)\n",
    "print(\"Random Subsampling score: \", modelScore)\n"
   ]
  },
  {
   "cell_type": "code",
   "execution_count": 38,
   "metadata": {},
   "outputs": [
    {
     "name": "stdout",
     "output_type": "stream",
     "text": [
      "KFold Cross Validation Score:  [1.         1.         1.         1.         0.86666667 0.86666667\n",
      " 1.         0.86666667 0.86666667 1.        ]\n",
      "Ratas KFCV score:  0.9466666666666667\n",
      "KFold Cross Validation MAE:  [-0.         -0.         -0.         -0.         -0.13333333 -0.13333333\n",
      " -0.         -0.13333333 -0.13333333 -0.        ]\n",
      "Ratas KFCV Mean Absolute Error:  -0.05333333333333333\n",
      "KFold Cross Validation RMSE:  [-0.         -0.         -0.         -0.         -0.13333333 -0.13333333\n",
      " -0.         -0.13333333 -0.13333333 -0.        ]\n",
      "Ratas KFCV Root Mean Square Error:  -0.05333333333333333\n"
     ]
    }
   ],
   "source": [
    "from sklearn.model_selection import KFold\n",
    "from sklearn.model_selection import cross_val_score\n",
    "from sklearn.neighbors import KNeighborsClassifier\n",
    "import numpy as np\n",
    "\n",
    "X = dataset.iloc[:,:-1]\n",
    "y = dataset.iloc[:,-1].values\n",
    "\n",
    "model = KNeighborsClassifier(n_neighbors=3)\n",
    "\n",
    "kFoldValidation = KFold(10)\n",
    "modelscore = cross_val_score(model, X, y, cv=kFoldValidation)\n",
    "print(\"KFold Cross Validation Score: \",modelscore)\n",
    "print(\"Ratas KFCV score: \",np.mean(modelscore))\n",
    "\n",
    "maeScore = cross_val_score(model, X, y, cv=kFoldValidation, scoring='neg_mean_absolute_error')\n",
    "print(\"KFold Cross Validation MAE: \",maeScore)\n",
    "print(\"Ratas KFCV Mean Absolute Error: \",np.mean(maeScore))\n",
    "\n",
    "rmseScore = cross_val_score(model, X, y, cv=kFoldValidation, scoring='neg_mean_squared_error')\n",
    "print(\"KFold Cross Validation RMSE: \",rmseScore)\n",
    "print(\"Ratas KFCV Root Mean Square Error: \",np.mean(rmseScore))"
   ]
  },
  {
   "cell_type": "code",
   "execution_count": 39,
   "metadata": {},
   "outputs": [
    {
     "name": "stdout",
     "output_type": "stream",
     "text": [
      "LOOCV score:  [1. 1. 1. 1. 1. 1. 1. 1. 1. 1. 1. 1. 1. 1. 1. 1. 1. 1. 1. 1. 1. 1. 1. 1.\n",
      " 1. 1. 1. 1. 1. 1. 1. 1. 1. 1. 1. 1. 1. 1. 1. 1. 1. 1. 1. 1. 1. 1. 1. 1.\n",
      " 1. 1. 1. 1. 1. 1. 1. 1. 1. 1. 1. 1. 1. 1. 1. 1. 1. 1. 1. 1. 1. 1. 0. 1.\n",
      " 0. 1. 1. 1. 1. 1. 1. 1. 1. 1. 1. 0. 1. 1. 1. 1. 1. 1. 1. 1. 1. 1. 1. 1.\n",
      " 1. 1. 1. 1. 1. 1. 1. 1. 1. 1. 0. 1. 1. 1. 1. 1. 1. 1. 1. 1. 1. 1. 1. 0.\n",
      " 1. 1. 1. 1. 1. 1. 1. 1. 1. 1. 1. 1. 1. 0. 1. 1. 1. 1. 1. 1. 1. 1. 1. 1.\n",
      " 1. 1. 1. 1. 1. 1.]\n",
      "Ratas LOOCV score:  0.96\n",
      "LOOCV MAE:  [-0. -0. -0. -0. -0. -0. -0. -0. -0. -0. -0. -0. -0. -0. -0. -0. -0. -0.\n",
      " -0. -0. -0. -0. -0. -0. -0. -0. -0. -0. -0. -0. -0. -0. -0. -0. -0. -0.\n",
      " -0. -0. -0. -0. -0. -0. -0. -0. -0. -0. -0. -0. -0. -0. -0. -0. -0. -0.\n",
      " -0. -0. -0. -0. -0. -0. -0. -0. -0. -0. -0. -0. -0. -0. -0. -0. -1. -0.\n",
      " -1. -0. -0. -0. -0. -0. -0. -0. -0. -0. -0. -1. -0. -0. -0. -0. -0. -0.\n",
      " -0. -0. -0. -0. -0. -0. -0. -0. -0. -0. -0. -0. -0. -0. -0. -0. -1. -0.\n",
      " -0. -0. -0. -0. -0. -0. -0. -0. -0. -0. -0. -1. -0. -0. -0. -0. -0. -0.\n",
      " -0. -0. -0. -0. -0. -0. -0. -1. -0. -0. -0. -0. -0. -0. -0. -0. -0. -0.\n",
      " -0. -0. -0. -0. -0. -0.]\n",
      "Ratas LOOCV Mean Absolute Error:  -0.04\n",
      "Ratas LOOCV Mean Absolute Error:  -0.04\n",
      "Ratas LOOCV Root Mean Square Error:  -0.05333333333333333\n"
     ]
    }
   ],
   "source": [
    "from sklearn.model_selection import LeaveOneOut\n",
    "from sklearn.model_selection import cross_val_score\n",
    "from sklearn.neighbors import KNeighborsClassifier\n",
    "import numpy as np\n",
    "\n",
    "X = dataset.iloc[:,:-1]\n",
    "y = dataset.iloc[:,-1].values\n",
    "model = KNeighborsClassifier(n_neighbors=3)\n",
    "LOO_validation = LeaveOneOut()\n",
    "modelScore = cross_val_score(model,X,y,cv=LOO_validation)\n",
    "print(\"LOOCV score: \",modelScore)\n",
    "print(\"Ratas LOOCV score: \",np.mean(modelScore))\n",
    "maeScore = cross_val_score(model, X, y, cv=LOO_validation, scoring='neg_mean_absolute_error')\n",
    "print(\"LOOCV MAE: \", maeScore)\n",
    "print(\"Ratas LOOCV Mean Absolute Error: \",np.mean(maeScore))\n",
    "print(\"Ratas LOOCV Mean Absolute Error: \",np.mean(maeScore))\n",
    "print(\"Ratas LOOCV Root Mean Square Error: \",np.mean(rmseScore))"
   ]
  },
  {
   "cell_type": "code",
   "execution_count": 40,
   "metadata": {},
   "outputs": [
    {
     "name": "stdout",
     "output_type": "stream",
     "text": [
      "Hasil semua percobaan bootstrap:  [0.9647058823529412]\n",
      "None\n",
      "Ratas Bootstrap score:  0.9647058823529412\n"
     ]
    }
   ],
   "source": [
    "from sklearn.utils import resample\n",
    "from sklearn.neighbors import KNeighborsClassifier\n",
    "from sklearn.metrics import accuracy_score\n",
    "import numpy as np\n",
    "\n",
    "values = dataset.values\n",
    "n_iterations = 10\n",
    "n_size = int(\n",
    "    len(dataset) * 0.5)\n",
    "\n",
    "stats = list()\n",
    "for i in range(n_iterations):\n",
    " train = resample(values, replace=True, n_samples=n_size, random_state=1)\n",
    "test = np.array([x for x in values if x.tolist() not in train.tolist()])\n",
    "model = KNeighborsClassifier(n_neighbors=3)\n",
    "model.fit(train[:, :-1], train[:, -1])\n",
    "predictions = model.predict(test[:, :-1])\n",
    "score = accuracy_score(test[:, -1], predictions)\n",
    "stats.append(score)\n",
    "print(print(\"Hasil semua percobaan bootstrap: \", stats))\n",
    "print(\"Ratas Bootstrap score: \", np.mean(stats))\n"
   ]
  }
 ],
 "metadata": {
  "kernelspec": {
   "display_name": "Python 3.9.13 ('machinelearning')",
   "language": "python",
   "name": "python3"
  },
  "language_info": {
   "codemirror_mode": {
    "name": "ipython",
    "version": 3
   },
   "file_extension": ".py",
   "mimetype": "text/x-python",
   "name": "python",
   "nbconvert_exporter": "python",
   "pygments_lexer": "ipython3",
   "version": "3.9.15"
  },
  "orig_nbformat": 4,
  "vscode": {
   "interpreter": {
    "hash": "b22419348e455761a38de9ae1788a3929bd05ce13ad03ce692116bbb033658bb"
   }
  }
 },
 "nbformat": 4,
 "nbformat_minor": 2
}
